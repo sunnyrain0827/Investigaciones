{
 "metadata": {
  "name": "10_Conclusion"
 },
 "nbformat": 3,
 "nbformat_minor": 0,
 "worksheets": [
  {
   "cells": [
    {
     "cell_type": "markdown",
     "metadata": {},
     "source": [
      "# Conclusion\n",
      "\n",
      "### We looked at:\n",
      "    \n",
      "* The Nature of Waves\n",
      "* The Fourier Transform\n",
      "* Fast Fourier Transform (FFT) in Python\n",
      "* Audio analysis\n",
      "\n",
      "### Caveat\n",
      "\n",
      "* Audio analysis is difficult (mainly due to harmonics)\n",
      "\n",
      "\n",
      "# My contact info\n",
      "* http://calebmadrigal.com\n",
      "* http://github.com/calebmadrigal\n",
      "\n",
      "# Questions?"
     ]
    }
   ],
   "metadata": {}
  }
 ]
}